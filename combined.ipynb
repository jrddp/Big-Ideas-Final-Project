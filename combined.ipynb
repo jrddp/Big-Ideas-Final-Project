{
 "cells": [
  {
   "cell_type": "markdown",
   "source": [
    "# CMPINF0010: What is the best Pittsburgh Neighborhood?\n",
    "Team Graffiti\n",
    "\n",
    "Members: Jared Peters and Zack Feerrar\n",
    "\n",
    "---\n",
    "# Metric 1: Safety\n",
    "By Jared Peters"
   ],
   "metadata": {
    "collapsed": false
   }
  },
  {
   "cell_type": "markdown",
   "source": [
    "## Datasets\n",
    "- [Police Incident Blotter (30 Day)](https://data.wprdc.org/dataset/police-incident-blotter)\n",
    "- [Pittsburgh American Community Survey 2015 - Total Population](https://data.wprdc.org/dataset/pittsburgh-american-community-survey-2015-miscellaneous-data/resource/82f29015-6905-4b1c-8300-afe9bb2231b3)"
   ],
   "metadata": {
    "collapsed": false
   }
  },
  {
   "cell_type": "markdown",
   "source": [
    "### Step 1: Setup\n",
    "- Import pandas and matplotlib\n",
    "- Import blotter dataframe\n",
    "- Refine dataset columns"
   ],
   "metadata": {
    "collapsed": false
   }
  },
  {
   "cell_type": "code",
   "execution_count": null,
   "outputs": [],
   "source": [
    "import pandas as pd\n",
    "# % matplotlib inline"
   ],
   "metadata": {
    "collapsed": false,
    "pycharm": {
     "name": "#%%\n"
    }
   }
  },
  {
   "cell_type": "code",
   "execution_count": null,
   "outputs": [],
   "source": [
    "# Import online Blotter data\n",
    "blotter_data = pd.read_csv(\"https://data.wprdc.org/datastore/dump/1797ead8-8262-41cc-9099-cbc8a161924b\")\n",
    "blotter_data.columns"
   ],
   "metadata": {
    "collapsed": false,
    "pycharm": {
     "name": "#%%\n"
    }
   }
  },
  {
   "cell_type": "markdown",
   "source": [
    "There are many columns, but we only need a few."
   ],
   "metadata": {
    "collapsed": false
   }
  },
  {
   "cell_type": "code",
   "execution_count": null,
   "outputs": [],
   "source": [
    "# Filter out unnecessary columns\n",
    "blotter_data = blotter_data[['INCIDENTNEIGHBORHOOD', 'INCIDENTHIERARCHYDESC']]\n",
    "blotter_data.head(10)"
   ],
   "metadata": {
    "collapsed": false,
    "pycharm": {
     "name": "#%%\n"
    }
   }
  },
  {
   "cell_type": "markdown",
   "source": [
    "### Step 2: Determine Danger Level\n",
    "- Create a function to weigh incidents based on their severity"
   ],
   "metadata": {
    "collapsed": false
   }
  },
  {
   "cell_type": "markdown",
   "source": [
    "There are too many incident types to weight each one"
   ],
   "metadata": {
    "collapsed": false
   }
  },
  {
   "cell_type": "code",
   "execution_count": null,
   "outputs": [],
   "source": [
    "# Count the unique incident types\n",
    "blotter_data['INCIDENTHIERARCHYDESC'].nunique()"
   ],
   "metadata": {
    "collapsed": false,
    "pycharm": {
     "name": "#%%\n"
    }
   }
  },
  {
   "cell_type": "markdown",
   "source": [
    "We can look at the most common and group them by severity"
   ],
   "metadata": {
    "collapsed": false
   }
  },
  {
   "cell_type": "code",
   "execution_count": null,
   "outputs": [],
   "source": [
    "# Let's take the top 15 and group them into categories for their severity\n",
    "blotter_data['INCIDENTHIERARCHYDESC'].value_counts().head(20)"
   ],
   "metadata": {
    "collapsed": false,
    "pycharm": {
     "name": "#%%\n"
    }
   }
  },
  {
   "cell_type": "markdown",
   "source": [
    "Most of them can be seen as moderate, but some are more minor or severe"
   ],
   "metadata": {
    "collapsed": false
   }
  },
  {
   "cell_type": "code",
   "execution_count": null,
   "outputs": [],
   "source": [
    "severe_incidents = [\"BURGLARY\", \"DEAD ON ARRIVAL (DOA)\"]\n",
    "minor_incidents = [\"99\", \"CRIM MISCHIEF\", \"RETAIL THEFT (SHOPLIFTING)\"]\n",
    "# Any other incidents will be considered moderate"
   ],
   "metadata": {
    "collapsed": false,
    "pycharm": {
     "name": "#%%\n"
    }
   }
  },
  {
   "cell_type": "markdown",
   "source": [
    "We'll now make a 'DANGER_LEVEL' column to describe the weighted rating of the offense"
   ],
   "metadata": {
    "collapsed": false
   }
  },
  {
   "cell_type": "code",
   "execution_count": null,
   "outputs": [],
   "source": [
    "def get_incident_weight(incident: str):\n",
    "    if incident in severe_incidents:\n",
    "        return 150\n",
    "    if incident in minor_incidents:\n",
    "        return 75\n",
    "    return 100\n",
    "\n",
    "blotter_data['DANGER_LEVEL'] = blotter_data['INCIDENTHIERARCHYDESC'].map(get_incident_weight)\n",
    "blotter_data.head()"
   ],
   "metadata": {
    "collapsed": false,
    "pycharm": {
     "name": "#%%\n"
    }
   }
  },
  {
   "cell_type": "markdown",
   "source": [
    "Once we have these danger levels, we can group the data by Neighborhood and aggregate by their total danger level."
   ],
   "metadata": {
    "collapsed": false
   }
  },
  {
   "cell_type": "code",
   "execution_count": null,
   "outputs": [],
   "source": [
    "nb_groups = blotter_data.groupby('INCIDENTNEIGHBORHOOD')\n",
    "neighborhood_data = nb_groups.agg({'DANGER_LEVEL':'sum'})\n",
    "neighborhood_data.head()"
   ],
   "metadata": {
    "collapsed": false,
    "pycharm": {
     "name": "#%%\n"
    }
   }
  },
  {
   "cell_type": "markdown",
   "source": [
    "Here are the top 10 safest and most dangerous neighborhoods, based purely on DANGER_LEVEL"
   ],
   "metadata": {
    "collapsed": false
   }
  },
  {
   "cell_type": "code",
   "execution_count": null,
   "outputs": [],
   "source": [
    "neighborhood_data = neighborhood_data.sort_values(by=\"DANGER_LEVEL\")\n",
    "neighborhood_data['DANGER_LEVEL'].head(10).plot.bar(xlabel='Safest Neighborhoods', ylabel='Danger per Capita')"
   ],
   "metadata": {
    "collapsed": false,
    "pycharm": {
     "name": "#%%\n"
    }
   }
  },
  {
   "cell_type": "code",
   "execution_count": null,
   "outputs": [],
   "source": [
    "neighborhood_data['DANGER_LEVEL'].tail(10).plot.bar(xlabel=\"Most Dangerous Neighborhoods\", ylabel='Danger per Capita')"
   ],
   "metadata": {
    "collapsed": false,
    "pycharm": {
     "name": "#%%\n"
    }
   }
  },
  {
   "cell_type": "markdown",
   "source": [
    "## Step 3: Account for Population\n",
    "This data still may not be a fair indicator, as higher populations will tend to have more crime due to having more people.\n",
    "\n",
    "We can account for this by importing estimated population data."
   ],
   "metadata": {
    "collapsed": false
   }
  },
  {
   "cell_type": "code",
   "execution_count": null,
   "outputs": [],
   "source": [
    "population_data = pd.read_csv('https://data.wprdc.org/dataset/5b18c198-474c-4723-b735-cc5220ad43cc/resource/82f29015-6905-4b1c-8300-afe9bb2231b3/download/total-population.csv', index_col='Neighborhood')\n",
    "population_data.head()"
   ],
   "metadata": {
    "collapsed": false,
    "pycharm": {
     "name": "#%%\n"
    }
   }
  },
  {
   "cell_type": "markdown",
   "source": [
    "We can add the 'Estimate; Total' data to our current neighborhood data by creating a new column."
   ],
   "metadata": {
    "collapsed": false
   }
  },
  {
   "cell_type": "code",
   "execution_count": null,
   "outputs": [],
   "source": [
    "neighborhood_data['POPULATION'] = population_data['Estimate; Total']\n",
    "neighborhood_data.head()"
   ],
   "metadata": {
    "collapsed": false,
    "pycharm": {
     "name": "#%%\n"
    }
   }
  },
  {
   "cell_type": "markdown",
   "source": [
    "Now, we can join our dataframes and create a new column for danger level per capita"
   ],
   "metadata": {
    "collapsed": false
   }
  },
  {
   "cell_type": "code",
   "execution_count": null,
   "outputs": [],
   "source": [
    "neighborhood_data['DANGER_PER_CAPITA'] = neighborhood_data['DANGER_LEVEL'] / neighborhood_data['POPULATION']\n",
    "neighborhood_data.head()"
   ],
   "metadata": {
    "collapsed": false,
    "pycharm": {
     "name": "#%%\n"
    }
   }
  },
  {
   "cell_type": "markdown",
   "source": [
    "## Conclusion"
   ],
   "metadata": {
    "collapsed": false
   }
  },
  {
   "cell_type": "markdown",
   "source": [
    "This 'DANGER_PER_CAPITA' can be used as our indicator for safety, so let's look at the most and least safe neighborhoods"
   ],
   "metadata": {
    "collapsed": false
   }
  },
  {
   "cell_type": "code",
   "execution_count": null,
   "outputs": [],
   "source": [
    "neighborhood_data = neighborhood_data.sort_values(by=\"DANGER_PER_CAPITA\").dropna()\n",
    "neighborhood_data['DANGER_PER_CAPITA'].head(10).plot.bar(xlabel='Safest Neighborhoods', ylabel='Danger per Capita')"
   ],
   "metadata": {
    "collapsed": false,
    "pycharm": {
     "name": "#%%\n"
    }
   }
  },
  {
   "cell_type": "code",
   "execution_count": null,
   "outputs": [],
   "source": [
    "neighborhood_data['DANGER_PER_CAPITA'].tail(10).plot.bar(xlabel=\"Most Dangerous Neighborhoods\", ylabel='Danger per Capita')"
   ],
   "metadata": {
    "collapsed": false,
    "pycharm": {
     "name": "#%%\n"
    }
   }
  },
  {
   "cell_type": "markdown",
   "source": [
    "Woah! Why is Chateau's danger rating so high?\n",
    "\n",
    "Chateau has a very small is population (Only 3, according to our population dataset), and mainly consists of [warehouses](https://en.wikipedia.org/wiki/Chateau_(Pittsburgh)), so it could be possible that people go to this unpopulated neighborhood to stay under the radar and commit crime\n",
    "\n",
    "South Shore also similarly has a small population (12) and consists of many warehouses."
   ],
   "metadata": {
    "collapsed": false
   }
  },
  {
   "cell_type": "markdown",
   "source": [
    "Based on calculations including the amount of police incidents reported, the type of incidents, and the neighborhood populations, the final rankings from safest to most dangerous are as follows:"
   ],
   "metadata": {
    "collapsed": false
   }
  },
  {
   "cell_type": "code",
   "execution_count": null,
   "outputs": [],
   "source": [
    "# Print each of the neighborhoods (the index of the df) on separate lines in order\n",
    "for rank, nb in enumerate(neighborhood_data.index, 1):\n",
    "    print(f\"{rank}. {nb}\")"
   ],
   "metadata": {
    "collapsed": false,
    "pycharm": {
     "name": "#%%\n"
    }
   }
  },
  {
   "cell_type": "markdown",
   "source": [
    "---\n",
    "# Metric 2: Public Art\n",
    " By Zachariah Feerrar"
   ],
   "metadata": {
    "collapsed": false
   }
  },
  {
   "cell_type": "markdown",
   "source": [
    "## Dataset:\n",
    "Public art: https://data.wprdc.org/dataset/city-of-pittsburgh-public-art"
   ],
   "metadata": {
    "collapsed": false
   }
  },
  {
   "cell_type": "markdown",
   "source": [
    "## Introduction\n",
    "\n",
    "I chose public art as my metric because it gives a neighborhood life. There is history behind each piece that could be explored too. This can attract more guests, as it something to fill time viewing and exploring. The more art, the more people come in and out. Word can spread about the amount of art in a neighborhood too, giving it more popularity overall."
   ],
   "metadata": {
    "collapsed": false
   }
  },
  {
   "cell_type": "markdown",
   "source": [
    "## Setup"
   ],
   "metadata": {
    "collapsed": false
   }
  },
  {
   "cell_type": "markdown",
   "source": [
    "I imported pandas, matplotlib, and the public art dataframe."
   ],
   "metadata": {
    "collapsed": false
   }
  },
  {
   "cell_type": "code",
   "execution_count": null,
   "outputs": [],
   "source": [
    "#imports\n",
    "import pandas as pd\n",
    "#%matplotlib inline\n",
    "import matplotlib.pyplot as plt"
   ],
   "metadata": {
    "collapsed": false,
    "pycharm": {
     "name": "#%%\n"
    }
   }
  },
  {
   "cell_type": "markdown",
   "source": [
    "I also filtered the information to only neighborhoods and art types, since those are the only columns we will be using."
   ],
   "metadata": {
    "collapsed": false
   }
  },
  {
   "cell_type": "code",
   "execution_count": null,
   "outputs": [],
   "source": [
    "#Data is being read through csv file\n",
    "parks = pd.read_csv(\"https://data.wprdc.org/datastore/dump/00d74e83-8a23-486e-841b-286e1332a151\",\n",
    "                           index_col=\"title\",\n",
    "                           parse_dates=True)\n",
    "\n",
    "#Filter information so it only lists each art project, neighborhood, and art type in Pittsburgh\n",
    "parks = parks[['neighborhood', 'art_type']]\n",
    "parks['neighborhood'] = parks['neighborhood'].fillna('Unknown')\n",
    "parks['art_type'] = parks['art_type'].fillna('Unknown')\n",
    "parks.head(100)"
   ],
   "metadata": {
    "collapsed": false,
    "pycharm": {
     "name": "#%%\n"
    }
   }
  },
  {
   "cell_type": "markdown",
   "source": [
    "## Determining which neighborhood has the most public art"
   ],
   "metadata": {
    "collapsed": false
   }
  },
  {
   "cell_type": "markdown",
   "source": [
    "I started by grouping the neighborhoods and art types together to make a table showing how many times they were used in the dataframe. I also filled the NaN values with 0 so they are included in the dataset."
   ],
   "metadata": {
    "collapsed": false
   }
  },
  {
   "cell_type": "code",
   "execution_count": null,
   "outputs": [],
   "source": [
    "park = pd.DataFrame(parks.groupby([\"neighborhood\", \"art_type\"]).size().unstack().fillna(0))\n",
    "park"
   ],
   "metadata": {
    "collapsed": false,
    "pycharm": {
     "name": "#%%\n"
    }
   }
  },
  {
   "cell_type": "markdown",
   "source": [
    "I then made a bar graph, as the information is easier to read. The different colors are for each art type. The art that didn't have a neighborhood or art type is \"Unknown\" on the graph."
   ],
   "metadata": {
    "collapsed": false
   }
  },
  {
   "cell_type": "code",
   "execution_count": null,
   "outputs": [],
   "source": [
    "fig, ax = plt.subplots(figsize=(15,7))\n",
    "park.plot.bar(stacked=True,ax=ax)\n",
    "plt.xlabel(\"Neighborhood\")\n",
    "plt.legend(title='Art Type')"
   ],
   "metadata": {
    "collapsed": false,
    "pycharm": {
     "name": "#%%\n"
    }
   }
  },
  {
   "cell_type": "markdown",
   "source": [
    "## Conclusion\n",
    "As you can see, Central Business District has the most public art in Pittsburgh. This makes it the best according to my metric. It isn't really surprising, as it is downtown and is visited more frequently by guests.\n",
    "\n",
    "The \"worst\" neighborhood is shared by several neighborhoods, such as Hays and Polish Hill, with a shared amount of 1 public art project."
   ],
   "metadata": {
    "collapsed": false
   }
  },
  {
   "cell_type": "markdown",
   "source": [
    "---\n",
    "# Combining the Data\n",
    "In order to combine our data, we will create standardized ratings for each metric.\n",
    "\n",
    "We can do this by dividing each metric's numerical value by their max.\n",
    "\n",
    "## Safety Rating\n",
    "We will start by getting a standard rating for the danger of each neighborhood.\n",
    "\n",
    "Typically, this could be done by dividing each DANGER_PER_CAPITA by the max DANGER_PER_CAPITA, but since we have 2 outliers we will divide by the 3rd largest DANGER_PER_CAPITA."
   ],
   "metadata": {
    "collapsed": false
   }
  },
  {
   "cell_type": "code",
   "execution_count": null,
   "outputs": [],
   "source": [
    "# The \"max\" here is actually the 3rd largest, since we want to ignore the outliers\n",
    "max_danger_per_capita = neighborhood_data[\"DANGER_PER_CAPITA\"][-3]\n",
    "neighborhood_data[\"DANGER_RATING\"] = neighborhood_data[\"DANGER_PER_CAPITA\"] / max_danger_per_capita"
   ],
   "metadata": {
    "collapsed": false,
    "pycharm": {
     "name": "#%%\n"
    }
   }
  },
  {
   "cell_type": "markdown",
   "source": [
    "Now to get a rating for safety, we can just take 1 - DANGER_RATING, since the values fall between [0, 1] (other than the outliers)"
   ],
   "metadata": {
    "collapsed": false
   }
  },
  {
   "cell_type": "code",
   "execution_count": null,
   "outputs": [],
   "source": [
    "neighborhood_data[\"SAFETY_RATING\"] = 1 - neighborhood_data[\"DANGER_RATING\"]\n",
    "neighborhood_data"
   ],
   "metadata": {
    "collapsed": false,
    "pycharm": {
     "name": "#%%\n"
    }
   }
  },
  {
   "cell_type": "markdown",
   "source": [
    "## Art Project Weighting\n",
    "\n",
    "For each neighborhood, we divided the amount of art projects in that neighborhood by the max amount, which was Central Business District's 27 projects. A column was added to the data table showing the weight of the neighborhoods compared to the best one from that metric."
   ],
   "metadata": {
    "collapsed": false
   }
  },
  {
   "cell_type": "code",
   "execution_count": null,
   "outputs": [],
   "source": [
    "max_public_art = parks['neighborhood'].value_counts().sort_values(ascending=False)[0]\n",
    "park['weight'] = parks['neighborhood'].value_counts()/max_public_art\n",
    "park"
   ],
   "metadata": {
    "collapsed": false,
    "pycharm": {
     "name": "#%%\n"
    }
   }
  },
  {
   "cell_type": "markdown",
   "source": [
    "## Making the Final Dataframe\n",
    "We can now finalize our dataframe with only the art and safety ratings.\n",
    "\n",
    "Since safety is typically more important when deciding a neighborhood to live in, it will have twice the weight."
   ],
   "metadata": {
    "collapsed": false
   }
  },
  {
   "cell_type": "code",
   "execution_count": null,
   "outputs": [],
   "source": [
    "final_df = pd.DataFrame(neighborhood_data[\"SAFETY_RATING\"])\n",
    "final_df['ART_RATING'] = park['weight']\n",
    "\n",
    "# Give any missing values a weight of 0 (Such as those with no data on art)\n",
    "final_df = final_df.fillna(0)\n",
    "\n",
    "# We will double every SAFETY_RATING, in order to give it twice as much value\n",
    "final_df['SAFETY_RATING'] = final_df['SAFETY_RATING'] * 2\n",
    "\n",
    "# Create a TOTAL_RATING column as a sum of both ratings, with twice the weight on safety\n",
    "final_df['TOTAL_RATING'] = final_df['SAFETY_RATING'] + final_df['ART_RATING']\n",
    "\n",
    "# Sort based on the new rating\n",
    "final_df = final_df.sort_values(by='TOTAL_RATING', ascending=False)\n",
    "\n",
    "final_df"
   ],
   "metadata": {
    "collapsed": false,
    "pycharm": {
     "name": "#%%\n"
    }
   }
  },
  {
   "cell_type": "markdown",
   "source": [
    "# Final Conclusion"
   ],
   "metadata": {
    "collapsed": false,
    "pycharm": {
     "name": "#%% md\n"
    }
   }
  },
  {
   "cell_type": "code",
   "execution_count": 241,
   "outputs": [
    {
     "data": {
      "text/plain": "<matplotlib.legend.Legend at 0x7f3700d75970>"
     },
     "execution_count": 241,
     "metadata": {},
     "output_type": "execute_result"
    },
    {
     "data": {
      "text/plain": "<Figure size 432x288 with 1 Axes>",
      "image/png": "[encoded data removed]"
     },
     "metadata": {
      "needs_background": "light"
     },
     "output_type": "display_data"
    }
   ],
   "source": [
    "final_df[['SAFETY_RATING', 'ART_RATING']].head(10).plot.bar(stacked=True, xlabel=\"Neighborhood\").legend([\"Safety Value\", \"Art Value\"])"
   ],
   "metadata": {
    "collapsed": false,
    "pycharm": {
     "name": "#%%\n"
    }
   }
  },
  {
   "cell_type": "code",
   "execution_count": 244,
   "outputs": [
    {
     "data": {
      "text/plain": "<matplotlib.legend.Legend at 0x7f36f7051c40>"
     },
     "execution_count": 244,
     "metadata": {},
     "output_type": "execute_result"
    },
    {
     "data": {
      "text/plain": "<Figure size 432x288 with 1 Axes>",
      "image/png": "[encoded data removed]"
     },
     "metadata": {
      "needs_background": "light"
     },
     "output_type": "display_data"
    }
   ],
   "source": [
    "final_df[['SAFETY_RATING', 'ART_RATING']].tail(10).plot.bar(stacked=True, xlabel=\"Neighborhood\").legend([\"Safety Value\", \"Art Value\"])"
   ],
   "metadata": {
    "collapsed": false,
    "pycharm": {
     "name": "#%%\n"
    }
   }
  },
  {
   "cell_type": "code",
   "execution_count": 243,
   "outputs": [
    {
     "data": {
      "text/plain": "<matplotlib.legend.Legend at 0x7f36f721cca0>"
     },
     "execution_count": 243,
     "metadata": {},
     "output_type": "execute_result"
    },
    {
     "data": {
      "text/plain": "<Figure size 432x288 with 1 Axes>",
      "image/png": "[encoded data removed]"
     },
     "metadata": {
      "needs_background": "light"
     },
     "output_type": "display_data"
    }
   ],
   "source": [
    "final_df[['SAFETY_RATING', 'ART_RATING']][:-2].tail(10).plot.bar(stacked=True, xlabel=\"Neighborhood\").legend([\"Safety Value\", \"Art Value\"])"
   ],
   "metadata": {
    "collapsed": false,
    "pycharm": {
     "name": "#%%\n"
    }
   }
  }
 ],
 "metadata": {
  "kernelspec": {
   "display_name": "Python 3",
   "language": "python",
   "name": "python3"
  },
  "language_info": {
   "codemirror_mode": {
    "name": "ipython",
    "version": 3
   },
   "file_extension": ".py",
   "mimetype": "text/x-python",
   "name": "python",
   "nbconvert_exporter": "python",
   "pygments_lexer": "ipython3",
   "version": "3.8.3"
  }
 },
 "nbformat": 4,
 "nbformat_minor": 4
}