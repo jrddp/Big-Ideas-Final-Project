{
 "cells": [
  {
   "cell_type": "markdown",
   "source": [
    "# Pittsburgh Neighborhood Safety\n",
    "> By Jared Peters\n",
    "---\n",
    "\n",
    "## Introduction\n",
    "\n",
    "I chose safety as my metric because it is very important to most people.\n",
    "No matter why you're in the neighborhood, you want to feel secure.\n",
    "Here, we will determine the safety of each neighborhood by analyzing recent criminal incidents as well as their relative populations. Essentially, we will find the safest neighborhoods by finding those that are the most dangerous."
   ],
   "metadata": {
    "collapsed": false
   }
  },
  {
   "cell_type": "markdown",
   "source": [
    "## Datasets\n",
    "- [Police Incident Blotter (30 Day)](https://data.wprdc.org/dataset/police-incident-blotter)\n",
    "> Information on recent criminal incidents including their location and type\n",
    "- [Pittsburgh American Community Survey 2015 - Total Population](https://data.wprdc.org/dataset/pittsburgh-american-community-survey-2015-miscellaneous-data/resource/82f29015-6905-4b1c-8300-afe9bb2231b3)\n",
    "> The most recent and complete data that I could find on neighborhood populations.\n",
    "> Includes population estimates from 2015."
   ],
   "metadata": {
    "collapsed": false
   }
  },
  {
   "cell_type": "markdown",
   "source": [
    "### Step 1: Setup\n",
    "- Import pandas and matplotlib\n",
    "- Import blotter dataframe\n",
    "- Refine dataset columns"
   ],
   "metadata": {
    "collapsed": false
   }
  },
  {
   "cell_type": "code",
   "execution_count": 1,
   "outputs": [],
   "source": [
    "import pandas as pd\n",
    "# % matplotlib inline"
   ],
   "metadata": {
    "collapsed": false,
    "pycharm": {
     "name": "#%%\n"
    }
   }
  },
  {
   "cell_type": "code",
   "execution_count": 2,
   "outputs": [
    {
     "data": {
      "text/plain": "Index(['PK', 'CCR', 'HIERARCHY', 'INCIDENTTIME', 'INCIDENTLOCATION',\n       'CLEAREDFLAG', 'INCIDENTNEIGHBORHOOD', 'INCIDENTZONE',\n       'INCIDENTHIERARCHYDESC', 'OFFENSES', 'INCIDENTTRACT',\n       'COUNCIL_DISTRICT', 'PUBLIC_WORKS_DIVISION', 'X', 'Y'],\n      dtype='object')"
     },
     "execution_count": 2,
     "metadata": {},
     "output_type": "execute_result"
    }
   ],
   "source": [
    "# Import online Blotter data\n",
    "blotter_data = pd.read_csv(\"https://data.wprdc.org/datastore/dump/1797ead8-8262-41cc-9099-cbc8a161924b\")\n",
    "blotter_data.columns"
   ],
   "metadata": {
    "collapsed": false,
    "pycharm": {
     "name": "#%%\n"
    }
   }
  },
  {
   "cell_type": "markdown",
   "source": [
    "There are many columns, but we only need a few."
   ],
   "metadata": {
    "collapsed": false
   }
  },
  {
   "cell_type": "code",
   "execution_count": 3,
   "outputs": [
    {
     "data": {
      "text/plain": "        INCIDENTNEIGHBORHOOD                  INCIDENTHIERARCHYDESC\n0             Strip District                            HIT AND RUN\n1                   Fineview                                     99\n2                 East Hills                                  THEFT\n3   Lincoln-Lemington-Belmar           ENDANGER WELFARE OF CHILDREN\n4                   Westwood                     THEFT BY DECEPTION\n5        Squirrel Hill South               CRIM MISCHIEF (GRAFFITI)\n6                 Banksville                                     99\n7                Perry South                                  THEFT\n8               East Liberty             RETSIL THEFT (SHOPLIFTING)\n9  Central Business District  FIREARMS NOT TO BE CARRIED WO LICENSE",
      "text/html": "<div>\n<style scoped>\n    .dataframe tbody tr th:only-of-type {\n        vertical-align: middle;\n    }\n\n    .dataframe tbody tr th {\n        vertical-align: top;\n    }\n\n    .dataframe thead th {\n        text-align: right;\n    }\n</style>\n<table border=\"1\" class=\"dataframe\">\n  <thead>\n    <tr style=\"text-align: right;\">\n      <th></th>\n      <th>INCIDENTNEIGHBORHOOD</th>\n      <th>INCIDENTHIERARCHYDESC</th>\n    </tr>\n  </thead>\n  <tbody>\n    <tr>\n      <th>0</th>\n      <td>Strip District</td>\n      <td>HIT AND RUN</td>\n    </tr>\n    <tr>\n      <th>1</th>\n      <td>Fineview</td>\n      <td>99</td>\n    </tr>\n    <tr>\n      <th>2</th>\n      <td>East Hills</td>\n      <td>THEFT</td>\n    </tr>\n    <tr>\n      <th>3</th>\n      <td>Lincoln-Lemington-Belmar</td>\n      <td>ENDANGER WELFARE OF CHILDREN</td>\n    </tr>\n    <tr>\n      <th>4</th>\n      <td>Westwood</td>\n      <td>THEFT BY DECEPTION</td>\n    </tr>\n    <tr>\n      <th>5</th>\n      <td>Squirrel Hill South</td>\n      <td>CRIM MISCHIEF (GRAFFITI)</td>\n    </tr>\n    <tr>\n      <th>6</th>\n      <td>Banksville</td>\n      <td>99</td>\n    </tr>\n    <tr>\n      <th>7</th>\n      <td>Perry South</td>\n      <td>THEFT</td>\n    </tr>\n    <tr>\n      <th>8</th>\n      <td>East Liberty</td>\n      <td>RETSIL THEFT (SHOPLIFTING)</td>\n    </tr>\n    <tr>\n      <th>9</th>\n      <td>Central Business District</td>\n      <td>FIREARMS NOT TO BE CARRIED WO LICENSE</td>\n    </tr>\n  </tbody>\n</table>\n</div>"
     },
     "execution_count": 3,
     "metadata": {},
     "output_type": "execute_result"
    }
   ],
   "source": [
    "# Filter out unnecessary columns\n",
    "blotter_data = blotter_data[['INCIDENTNEIGHBORHOOD', 'INCIDENTHIERARCHYDESC']]\n",
    "blotter_data.head(10)"
   ],
   "metadata": {
    "collapsed": false,
    "pycharm": {
     "name": "#%%\n"
    }
   }
  },
  {
   "cell_type": "markdown",
   "source": [
    "### Step 2: Determine Danger Level\n",
    "- Create a function to weigh incidents based on their severity"
   ],
   "metadata": {
    "collapsed": false
   }
  },
  {
   "cell_type": "markdown",
   "source": [
    "There are too many incident types to weight each one"
   ],
   "metadata": {
    "collapsed": false
   }
  },
  {
   "cell_type": "code",
   "execution_count": 4,
   "outputs": [
    {
     "data": {
      "text/plain": "99"
     },
     "execution_count": 4,
     "metadata": {},
     "output_type": "execute_result"
    }
   ],
   "source": [
    "# Count the unique incident types\n",
    "blotter_data['INCIDENTHIERARCHYDESC'].nunique()"
   ],
   "metadata": {
    "collapsed": false,
    "pycharm": {
     "name": "#%%\n"
    }
   }
  },
  {
   "cell_type": "markdown",
   "source": [
    "We can look at the most common and group them by severity"
   ],
   "metadata": {
    "collapsed": false
   }
  },
  {
   "cell_type": "code",
   "execution_count": 5,
   "outputs": [
    {
     "data": {
      "text/plain": "99                                559\nHIT AND RUN                       293\nTHEFT                             270\nSIMPLE ASSAULT                    168\nTHEFT FROM AUTO                   147\nHARRASSMENT                       132\nCRIM MISCHIEF                     117\nAIDED CASE                         72\nHARRASSMENT/THREAT/ATTEMPT/PHY     62\nAGG-ASSAULT                        60\nSTOLEN PROPERTY - OTHER            60\nFOUND PROPERTY                     59\nBURGLARY                           58\nDEAD ON ARRIVAL (DOA)              48\nSTOLEN PROPERTY                    45\nTERRORISTIC THREATS                45\nCRIMINAL MISCHIEF                  44\nTHEFT BY DECEPTION                 44\nMENTAL 201/302                     41\nMISCELLANEOUS INVESTIGATION        40\nName: INCIDENTHIERARCHYDESC, dtype: int64"
     },
     "execution_count": 5,
     "metadata": {},
     "output_type": "execute_result"
    }
   ],
   "source": [
    "# Let's take the top 15 and group them into categories for their severity\n",
    "blotter_data['INCIDENTHIERARCHYDESC'].value_counts().head(20)"
   ],
   "metadata": {
    "collapsed": false,
    "pycharm": {
     "name": "#%%\n"
    }
   }
  },
  {
   "cell_type": "markdown",
   "source": [
    "Most of them can be seen as moderate, but some are more minor or severe"
   ],
   "metadata": {
    "collapsed": false
   }
  },
  {
   "cell_type": "code",
   "execution_count": 6,
   "outputs": [],
   "source": [
    "severe_incidents = [\"BURGLARY\", \"DEAD ON ARRIVAL (DOA)\"]\n",
    "minor_incidents = [\"99\", \"CRIM MISCHIEF\", \"RETAIL THEFT (SHOPLIFTING)\"]\n",
    "# Any other incidents will be considered moderate"
   ],
   "metadata": {
    "collapsed": false,
    "pycharm": {
     "name": "#%%\n"
    }
   }
  },
  {
   "cell_type": "markdown",
   "source": [
    "We'll now make a 'DANGER_LEVEL' column to describe the weighted rating of the offense"
   ],
   "metadata": {
    "collapsed": false
   }
  },
  {
   "cell_type": "code",
   "execution_count": 7,
   "outputs": [
    {
     "data": {
      "text/plain": "       INCIDENTNEIGHBORHOOD         INCIDENTHIERARCHYDESC  DANGER_LEVEL\n0            Strip District                   HIT AND RUN           100\n1                  Fineview                            99            75\n2                East Hills                         THEFT           100\n3  Lincoln-Lemington-Belmar  ENDANGER WELFARE OF CHILDREN           100\n4                  Westwood            THEFT BY DECEPTION           100",
      "text/html": "<div>\n<style scoped>\n    .dataframe tbody tr th:only-of-type {\n        vertical-align: middle;\n    }\n\n    .dataframe tbody tr th {\n        vertical-align: top;\n    }\n\n    .dataframe thead th {\n        text-align: right;\n    }\n</style>\n<table border=\"1\" class=\"dataframe\">\n  <thead>\n    <tr style=\"text-align: right;\">\n      <th></th>\n      <th>INCIDENTNEIGHBORHOOD</th>\n      <th>INCIDENTHIERARCHYDESC</th>\n      <th>DANGER_LEVEL</th>\n    </tr>\n  </thead>\n  <tbody>\n    <tr>\n      <th>0</th>\n      <td>Strip District</td>\n      <td>HIT AND RUN</td>\n      <td>100</td>\n    </tr>\n    <tr>\n      <th>1</th>\n      <td>Fineview</td>\n      <td>99</td>\n      <td>75</td>\n    </tr>\n    <tr>\n      <th>2</th>\n      <td>East Hills</td>\n      <td>THEFT</td>\n      <td>100</td>\n    </tr>\n    <tr>\n      <th>3</th>\n      <td>Lincoln-Lemington-Belmar</td>\n      <td>ENDANGER WELFARE OF CHILDREN</td>\n      <td>100</td>\n    </tr>\n    <tr>\n      <th>4</th>\n      <td>Westwood</td>\n      <td>THEFT BY DECEPTION</td>\n      <td>100</td>\n    </tr>\n  </tbody>\n</table>\n</div>"
     },
     "execution_count": 7,
     "metadata": {},
     "output_type": "execute_result"
    }
   ],
   "source": [
    "def get_incident_weight(incident: str):\n",
    "    if incident in severe_incidents:\n",
    "        return 150\n",
    "    if incident in minor_incidents:\n",
    "        return 75\n",
    "    return 100\n",
    "\n",
    "blotter_data['DANGER_LEVEL'] = blotter_data['INCIDENTHIERARCHYDESC'].map(get_incident_weight)\n",
    "blotter_data.head()"
   ],
   "metadata": {
    "collapsed": false,
    "pycharm": {
     "name": "#%%\n"
    }
   }
  },
  {
   "cell_type": "markdown",
   "source": [
    "Once we have these danger levels, we can group the data by Neighborhood and aggregate by their total danger level."
   ],
   "metadata": {
    "collapsed": false
   }
  },
  {
   "cell_type": "code",
   "execution_count": 8,
   "outputs": [
    {
     "data": {
      "text/plain": "                      DANGER_LEVEL\nINCIDENTNEIGHBORHOOD              \nAllegheny Center              2500\nAllegheny West                 700\nAllentown                     4175\nArlington                     2300\nArlington Heights              350",
      "text/html": "<div>\n<style scoped>\n    .dataframe tbody tr th:only-of-type {\n        vertical-align: middle;\n    }\n\n    .dataframe tbody tr th {\n        vertical-align: top;\n    }\n\n    .dataframe thead th {\n        text-align: right;\n    }\n</style>\n<table border=\"1\" class=\"dataframe\">\n  <thead>\n    <tr style=\"text-align: right;\">\n      <th></th>\n      <th>DANGER_LEVEL</th>\n    </tr>\n    <tr>\n      <th>INCIDENTNEIGHBORHOOD</th>\n      <th></th>\n    </tr>\n  </thead>\n  <tbody>\n    <tr>\n      <th>Allegheny Center</th>\n      <td>2500</td>\n    </tr>\n    <tr>\n      <th>Allegheny West</th>\n      <td>700</td>\n    </tr>\n    <tr>\n      <th>Allentown</th>\n      <td>4175</td>\n    </tr>\n    <tr>\n      <th>Arlington</th>\n      <td>2300</td>\n    </tr>\n    <tr>\n      <th>Arlington Heights</th>\n      <td>350</td>\n    </tr>\n  </tbody>\n</table>\n</div>"
     },
     "execution_count": 8,
     "metadata": {},
     "output_type": "execute_result"
    }
   ],
   "source": [
    "nb_groups = blotter_data.groupby('INCIDENTNEIGHBORHOOD')\n",
    "neighborhood_data = nb_groups.agg({'DANGER_LEVEL':'sum'})\n",
    "neighborhood_data.head()"
   ],
   "metadata": {
    "collapsed": false,
    "pycharm": {
     "name": "#%%\n"
    }
   }
  },
  {
   "cell_type": "markdown",
   "source": [
    "Here are the top 10 safest and most dangerous neighborhoods, based purely on DANGER_LEVEL"
   ],
   "metadata": {
    "collapsed": false
   }
  },
  {
   "cell_type": "code",
   "execution_count": 9,
   "outputs": [
    {
     "data": {
      "text/plain": "<AxesSubplot:xlabel='Safest Neighborhoods', ylabel='Danger per Capita'>"
     },
     "execution_count": 9,
     "metadata": {},
     "output_type": "execute_result"
    },
    {
     "data": {
      "text/plain": "<Figure size 432x288 with 1 Axes>",
      "image/png": "[encoded data removed]"
     },
     "metadata": {
      "needs_background": "light"
     },
     "output_type": "display_data"
    }
   ],
   "source": [
    "neighborhood_data = neighborhood_data.sort_values(by=\"DANGER_LEVEL\")\n",
    "neighborhood_data['DANGER_LEVEL'].head(10).plot.bar(xlabel='Safest Neighborhoods', ylabel='Danger per Capita')"
   ],
   "metadata": {
    "collapsed": false,
    "pycharm": {
     "name": "#%%\n"
    }
   }
  },
  {
   "cell_type": "code",
   "execution_count": 10,
   "outputs": [
    {
     "data": {
      "text/plain": "<AxesSubplot:xlabel='Most Dangerous Neighborhoods', ylabel='Danger per Capita'>"
     },
     "execution_count": 10,
     "metadata": {},
     "output_type": "execute_result"
    },
    {
     "data": {
      "text/plain": "<Figure size 432x288 with 1 Axes>",
      "image/png": "[encoded data removed]"
     },
     "metadata": {
      "needs_background": "light"
     },
     "output_type": "display_data"
    }
   ],
   "source": [
    "neighborhood_data['DANGER_LEVEL'].tail(10).plot.bar(xlabel=\"Most Dangerous Neighborhoods\", ylabel='Danger per Capita')"
   ],
   "metadata": {
    "collapsed": false,
    "pycharm": {
     "name": "#%%\n"
    }
   }
  },
  {
   "cell_type": "markdown",
   "source": [
    "## Step 3: Account for Population\n",
    "This data still may not be a fair indicator, as higher populations will tend to have more crime due to having more people.\n",
    "\n",
    "We can account for this by importing estimated population data."
   ],
   "metadata": {
    "collapsed": false
   }
  },
  {
   "cell_type": "code",
   "execution_count": 11,
   "outputs": [
    {
     "data": {
      "text/plain": "                   Id  Estimate; Total  Margin of Error; Total\nNeighborhood                                                  \nAllegheny Center    1           1411.0              196.000000\nAllegheny West      2            343.0               96.000000\nAllentown           3           2558.0              449.773276\nArlington           4           1852.0              348.188168\nArlington Heights   5            272.0              126.000000",
      "text/html": "<div>\n<style scoped>\n    .dataframe tbody tr th:only-of-type {\n        vertical-align: middle;\n    }\n\n    .dataframe tbody tr th {\n        vertical-align: top;\n    }\n\n    .dataframe thead th {\n        text-align: right;\n    }\n</style>\n<table border=\"1\" class=\"dataframe\">\n  <thead>\n    <tr style=\"text-align: right;\">\n      <th></th>\n      <th>Id</th>\n      <th>Estimate; Total</th>\n      <th>Margin of Error; Total</th>\n    </tr>\n    <tr>\n      <th>Neighborhood</th>\n      <th></th>\n      <th></th>\n      <th></th>\n    </tr>\n  </thead>\n  <tbody>\n    <tr>\n      <th>Allegheny Center</th>\n      <td>1</td>\n      <td>1411.0</td>\n      <td>196.000000</td>\n    </tr>\n    <tr>\n      <th>Allegheny West</th>\n      <td>2</td>\n      <td>343.0</td>\n      <td>96.000000</td>\n    </tr>\n    <tr>\n      <th>Allentown</th>\n      <td>3</td>\n      <td>2558.0</td>\n      <td>449.773276</td>\n    </tr>\n    <tr>\n      <th>Arlington</th>\n      <td>4</td>\n      <td>1852.0</td>\n      <td>348.188168</td>\n    </tr>\n    <tr>\n      <th>Arlington Heights</th>\n      <td>5</td>\n      <td>272.0</td>\n      <td>126.000000</td>\n    </tr>\n  </tbody>\n</table>\n</div>"
     },
     "execution_count": 11,
     "metadata": {},
     "output_type": "execute_result"
    }
   ],
   "source": [
    "population_data = pd.read_csv('https://data.wprdc.org/dataset/5b18c198-474c-4723-b735-cc5220ad43cc/resource/82f29015-6905-4b1c-8300-afe9bb2231b3/download/total-population.csv', index_col='Neighborhood')\n",
    "population_data.head()"
   ],
   "metadata": {
    "collapsed": false,
    "pycharm": {
     "name": "#%%\n"
    }
   }
  },
  {
   "cell_type": "markdown",
   "source": [
    "We can add the 'Estimate; Total' data to our current neighborhood data by creating a new column."
   ],
   "metadata": {
    "collapsed": false
   }
  },
  {
   "cell_type": "code",
   "execution_count": 12,
   "outputs": [
    {
     "data": {
      "text/plain": "                      DANGER_LEVEL  POPULATION\nINCIDENTNEIGHBORHOOD                          \nNew Homestead                  100       973.0\nSt. Clair                      100       270.0\nEast Carnegie                  175       610.0\nRegent Square                  175      1033.0\nRidgemont                      200       314.0",
      "text/html": "<div>\n<style scoped>\n    .dataframe tbody tr th:only-of-type {\n        vertical-align: middle;\n    }\n\n    .dataframe tbody tr th {\n        vertical-align: top;\n    }\n\n    .dataframe thead th {\n        text-align: right;\n    }\n</style>\n<table border=\"1\" class=\"dataframe\">\n  <thead>\n    <tr style=\"text-align: right;\">\n      <th></th>\n      <th>DANGER_LEVEL</th>\n      <th>POPULATION</th>\n    </tr>\n    <tr>\n      <th>INCIDENTNEIGHBORHOOD</th>\n      <th></th>\n      <th></th>\n    </tr>\n  </thead>\n  <tbody>\n    <tr>\n      <th>New Homestead</th>\n      <td>100</td>\n      <td>973.0</td>\n    </tr>\n    <tr>\n      <th>St. Clair</th>\n      <td>100</td>\n      <td>270.0</td>\n    </tr>\n    <tr>\n      <th>East Carnegie</th>\n      <td>175</td>\n      <td>610.0</td>\n    </tr>\n    <tr>\n      <th>Regent Square</th>\n      <td>175</td>\n      <td>1033.0</td>\n    </tr>\n    <tr>\n      <th>Ridgemont</th>\n      <td>200</td>\n      <td>314.0</td>\n    </tr>\n  </tbody>\n</table>\n</div>"
     },
     "execution_count": 12,
     "metadata": {},
     "output_type": "execute_result"
    }
   ],
   "source": [
    "neighborhood_data['POPULATION'] = population_data['Estimate; Total']\n",
    "# Drop any neighborhoods that are missing population data\n",
    "neighborhood_data = neighborhood_data.dropna()\n",
    "neighborhood_data.head()"
   ],
   "metadata": {
    "collapsed": false,
    "pycharm": {
     "name": "#%%\n"
    }
   }
  },
  {
   "cell_type": "markdown",
   "source": [
    "Now, we can join our dataframes and create a new column for danger level per capita and sort based on our new values"
   ],
   "metadata": {
    "collapsed": false
   }
  },
  {
   "cell_type": "code",
   "execution_count": 13,
   "outputs": [
    {
     "data": {
      "text/plain": "                      DANGER_LEVEL  POPULATION  DANGER_PER_CAPITA\nINCIDENTNEIGHBORHOOD                                             \nNew Homestead                  100       973.0           0.102775\nRegent Square                  175      1033.0           0.169409\nSquirrel Hill North           2925     11336.0           0.258028\nEast Carnegie                  175       610.0           0.286885\nOverbrook                     1150      3682.0           0.312330",
      "text/html": "<div>\n<style scoped>\n    .dataframe tbody tr th:only-of-type {\n        vertical-align: middle;\n    }\n\n    .dataframe tbody tr th {\n        vertical-align: top;\n    }\n\n    .dataframe thead th {\n        text-align: right;\n    }\n</style>\n<table border=\"1\" class=\"dataframe\">\n  <thead>\n    <tr style=\"text-align: right;\">\n      <th></th>\n      <th>DANGER_LEVEL</th>\n      <th>POPULATION</th>\n      <th>DANGER_PER_CAPITA</th>\n    </tr>\n    <tr>\n      <th>INCIDENTNEIGHBORHOOD</th>\n      <th></th>\n      <th></th>\n      <th></th>\n    </tr>\n  </thead>\n  <tbody>\n    <tr>\n      <th>New Homestead</th>\n      <td>100</td>\n      <td>973.0</td>\n      <td>0.102775</td>\n    </tr>\n    <tr>\n      <th>Regent Square</th>\n      <td>175</td>\n      <td>1033.0</td>\n      <td>0.169409</td>\n    </tr>\n    <tr>\n      <th>Squirrel Hill North</th>\n      <td>2925</td>\n      <td>11336.0</td>\n      <td>0.258028</td>\n    </tr>\n    <tr>\n      <th>East Carnegie</th>\n      <td>175</td>\n      <td>610.0</td>\n      <td>0.286885</td>\n    </tr>\n    <tr>\n      <th>Overbrook</th>\n      <td>1150</td>\n      <td>3682.0</td>\n      <td>0.312330</td>\n    </tr>\n  </tbody>\n</table>\n</div>"
     },
     "execution_count": 13,
     "metadata": {},
     "output_type": "execute_result"
    }
   ],
   "source": [
    "neighborhood_data['DANGER_PER_CAPITA'] = neighborhood_data['DANGER_LEVEL'] / neighborhood_data['POPULATION']\n",
    "neighborhood_data = neighborhood_data.sort_values(by=\"DANGER_PER_CAPITA\").dropna()\n",
    "neighborhood_data.head()"
   ],
   "metadata": {
    "collapsed": false,
    "pycharm": {
     "name": "#%%\n"
    }
   }
  },
  {
   "cell_type": "markdown",
   "source": [
    "## Conclusion"
   ],
   "metadata": {
    "collapsed": false
   }
  },
  {
   "cell_type": "markdown",
   "source": [
    "This 'DANGER_PER_CAPITA' can be used as our indicator for safety, so let's look at the most and least safe neighborhoods"
   ],
   "metadata": {
    "collapsed": false
   }
  },
  {
   "cell_type": "code",
   "execution_count": 14,
   "outputs": [
    {
     "data": {
      "text/plain": "<AxesSubplot:xlabel='Safest Neighborhoods', ylabel='Danger per Capita'>"
     },
     "execution_count": 14,
     "metadata": {},
     "output_type": "execute_result"
    },
    {
     "data": {
      "text/plain": "<Figure size 432x288 with 1 Axes>",
      "image/png": "[encoded data removed]"
     },
     "metadata": {
      "needs_background": "light"
     },
     "output_type": "display_data"
    }
   ],
   "source": [
    "neighborhood_data['DANGER_PER_CAPITA'].head(10).plot.bar(xlabel='Safest Neighborhoods', ylabel='Danger per Capita')"
   ],
   "metadata": {
    "collapsed": false,
    "pycharm": {
     "name": "#%%\n"
    }
   }
  },
  {
   "cell_type": "code",
   "execution_count": 15,
   "outputs": [
    {
     "data": {
      "text/plain": "<AxesSubplot:xlabel='Most Dangerous Neighborhoods', ylabel='Danger per Capita'>"
     },
     "execution_count": 15,
     "metadata": {},
     "output_type": "execute_result"
    },
    {
     "data": {
      "text/plain": "<Figure size 432x288 with 1 Axes>",
      "image/png": "[encoded data removed]"
     },
     "metadata": {
      "needs_background": "light"
     },
     "output_type": "display_data"
    }
   ],
   "source": [
    "neighborhood_data['DANGER_PER_CAPITA'].tail(10).plot.bar(xlabel=\"Most Dangerous Neighborhoods\", ylabel='Danger per Capita')"
   ],
   "metadata": {
    "collapsed": false,
    "pycharm": {
     "name": "#%%\n"
    }
   }
  },
  {
   "cell_type": "markdown",
   "source": [
    "### Woah! Why is Chateau's danger rating so high?\n",
    "\n",
    "![Chateau](https://i.imgur.com/npKt6xa.gif)\n",
    "\n",
    "Chateau has a very small is population (Only 3, according to our population dataset), and mainly consists of [warehouses](https://en.wikipedia.org/wiki/Chateau_(Pittsburgh)), so it could be possible that people go to this unpopulated neighborhood to stay under the radar and commit crime"
   ],
   "metadata": {
    "collapsed": false
   }
  },
  {
   "cell_type": "code",
   "execution_count": 16,
   "outputs": [
    {
     "data": {
      "text/plain": "DANGER_LEVEL         1275.0\nPOPULATION              3.0\nDANGER_PER_CAPITA     425.0\nName: Chateau, dtype: float64"
     },
     "execution_count": 16,
     "metadata": {},
     "output_type": "execute_result"
    }
   ],
   "source": [
    "neighborhood_data.loc['Chateau']"
   ],
   "metadata": {
    "collapsed": false,
    "pycharm": {
     "name": "#%%\n"
    }
   }
  },
  {
   "cell_type": "markdown",
   "source": [
    "South Shore also similarly has a small population (12) and consists of many warehouses."
   ],
   "metadata": {
    "collapsed": false
   }
  },
  {
   "cell_type": "code",
   "execution_count": 17,
   "outputs": [
    {
     "data": {
      "text/plain": "DANGER_LEVEL         850.000000\nPOPULATION            12.000000\nDANGER_PER_CAPITA     70.833333\nName: South Shore, dtype: float64"
     },
     "execution_count": 17,
     "metadata": {},
     "output_type": "execute_result"
    }
   ],
   "source": [
    "neighborhood_data.loc['South Shore']"
   ],
   "metadata": {
    "collapsed": false,
    "pycharm": {
     "name": "#%%\n"
    }
   }
  },
  {
   "cell_type": "markdown",
   "source": [
    "Based on calculations including the amount of police incidents reported, the type of incidents, and the neighborhood populations, the final rankings from safest to most dangerous are as follows:"
   ],
   "metadata": {
    "collapsed": false
   }
  },
  {
   "cell_type": "code",
   "execution_count": 18,
   "outputs": [
    {
     "name": "stdout",
     "output_type": "stream",
     "text": [
      "1. New Homestead\n",
      "2. Regent Square\n",
      "3. Squirrel Hill North\n",
      "4. East Carnegie\n",
      "5. Overbrook\n",
      "6. Oakwood\n",
      "7. Stanton Heights\n",
      "8. Glen Hazel\n",
      "9. Lincoln Place\n",
      "10. Swisshelm Park\n",
      "11. Shadyside\n",
      "12. St. Clair\n",
      "13. Greenfield\n",
      "14. Banksville\n",
      "15. Squirrel Hill South\n",
      "16. Bloomfield\n",
      "17. North Oakland\n",
      "18. Morningside\n",
      "19. Brookline\n",
      "20. Westwood\n",
      "21. Chartiers City\n",
      "22. Point Breeze\n",
      "23. Garfield\n",
      "24. Spring Garden\n",
      "25. Highland Park\n",
      "26. Central Oakland\n",
      "27. Upper Lawrenceville\n",
      "28. Mount Washington\n",
      "29. Ridgemont\n",
      "30. Lower Lawrenceville\n",
      "31. Polish Hill\n",
      "32. Marshall-Shadeland\n",
      "33. Central Lawrenceville\n",
      "34. Terrace Village\n",
      "35. Windgap\n",
      "36. Duquesne Heights\n",
      "37. Fairywood\n",
      "38. Troy Hill\n",
      "39. Beechview\n",
      "40. Friendship\n",
      "41. South Oakland\n",
      "42. Perry North\n",
      "43. Upper Hill\n",
      "44. Summer Hill\n",
      "45. Spring Hill-City View\n",
      "46. Crafton Heights\n",
      "47. Bluff\n",
      "48. Beltzhoover\n",
      "49. Brighton Heights\n",
      "50. Lincoln-Lemington-Belmar\n",
      "51. South Side Slopes\n",
      "52. Carrick\n",
      "53. Elliott\n",
      "54. Knoxville\n",
      "55. West Oakland\n",
      "56. Point Breeze North\n",
      "57. Sheraden\n",
      "58. East Liberty\n",
      "59. Arlington\n",
      "60. Fineview\n",
      "61. Hazelwood\n",
      "62. Arlington Heights\n",
      "63. Manchester\n",
      "64. Hays\n",
      "65. California-Kirkbride\n",
      "66. Bon Air\n",
      "67. Perry South\n",
      "68. Middle Hill\n",
      "69. Crawford-Roberts\n",
      "70. Allentown\n",
      "71. South Side Flats\n",
      "72. Northview Heights\n",
      "73. Allegheny Center\n",
      "74. East Hills\n",
      "75. Allegheny West\n",
      "76. Homewood North\n",
      "77. Esplen\n",
      "78. West End\n",
      "79. Homewood West\n",
      "80. Bedford Dwellings\n",
      "81. East Allegheny\n",
      "82. Larimer\n",
      "83. Homewood South\n",
      "84. Strip District\n",
      "85. Central Business District\n",
      "86. North Shore\n",
      "87. South Shore\n",
      "88. Chateau\n"
     ]
    }
   ],
   "source": [
    "# Print each of the neighborhoods (the index of the df) on separate lines in order\n",
    "for rank, nb in enumerate(neighborhood_data.index, 1):\n",
    "    print(f\"{rank}. {nb}\")"
   ],
   "metadata": {
    "collapsed": false,
    "pycharm": {
     "name": "#%%\n"
    }
   }
  }
 ],
 "metadata": {
  "kernelspec": {
   "display_name": "Python 3",
   "language": "python",
   "name": "python3"
  },
  "language_info": {
   "codemirror_mode": {
    "name": "ipython",
    "version": 2
   },
   "file_extension": ".py",
   "mimetype": "text/x-python",
   "name": "python",
   "nbconvert_exporter": "python",
   "pygments_lexer": "ipython2",
   "version": "2.7.6"
  }
 },
 "nbformat": 4,
 "nbformat_minor": 0
}