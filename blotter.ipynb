{
 "cells": [
  {
   "cell_type": "markdown",
   "source": [
    "# Pittsburgh Neighborhood Safety\n",
    "> By Jared Peters\n",
    "---\n",
    "## Datasets\n",
    "- [Police Incident Blotter (30 Day)](https://data.wprdc.org/dataset/police-incident-blotter)\n",
    "- [Pittsburgh American Community Survey 2015 - Total Population](https://data.wprdc.org/dataset/pittsburgh-american-community-survey-2015-miscellaneous-data/resource/82f29015-6905-4b1c-8300-afe9bb2231b3)"
   ],
   "metadata": {
    "collapsed": false,
    "pycharm": {
     "name": "#%% md\n"
    }
   }
  },
  {
   "cell_type": "markdown",
   "source": [
    "## Step 1: Setup\n",
    "- Import pandas and matplotlib\n",
    "- Import blotter dataframe\n",
    "- Refine dataset columns"
   ],
   "metadata": {
    "collapsed": false,
    "pycharm": {
     "name": "#%% md\n"
    }
   }
  },
  {
   "cell_type": "code",
   "execution_count": 23,
   "outputs": [],
   "source": [
    "import pandas as pd\n",
    "# % matplotlib inline"
   ],
   "metadata": {
    "collapsed": false,
    "pycharm": {
     "name": "#%%\n"
    }
   }
  },
  {
   "cell_type": "code",
   "execution_count": 24,
   "metadata": {
    "collapsed": true
   },
   "outputs": [
    {
     "data": {
      "text/plain": "Index(['PK', 'CCR', 'HIERARCHY', 'INCIDENTTIME', 'INCIDENTLOCATION',\n       'CLEAREDFLAG', 'INCIDENTNEIGHBORHOOD', 'INCIDENTZONE',\n       'INCIDENTHIERARCHYDESC', 'OFFENSES', 'INCIDENTTRACT',\n       'COUNCIL_DISTRICT', 'PUBLIC_WORKS_DIVISION', 'X', 'Y'],\n      dtype='object')"
     },
     "execution_count": 24,
     "metadata": {},
     "output_type": "execute_result"
    }
   ],
   "source": [
    "# Import online Blotter data\n",
    "blotter_data = pd.read_csv(\"https://data.wprdc.org/datastore/dump/1797ead8-8262-41cc-9099-cbc8a161924b\")\n",
    "blotter_data.columns"
   ]
  },
  {
   "cell_type": "markdown",
   "source": [
    "There are many columns, but we only need a few."
   ],
   "metadata": {
    "collapsed": false,
    "pycharm": {
     "name": "#%% md\n"
    }
   }
  },
  {
   "cell_type": "code",
   "execution_count": 25,
   "outputs": [
    {
     "data": {
      "text/plain": "        INCIDENTNEIGHBORHOOD INCIDENTHIERARCHYDESC  HIERARCHY\n0             Strip District           HIT AND RUN         27\n1                    Carrick         CRIM MISCHIEF         14\n2   Lincoln-Lemington-Belmar           HARRASSMENT         10\n3  Central Business District           HIT AND RUN         27\n4               East Liberty                    99          0\n5          South Side Slopes         CRIM MISCHIEF         14\n6  Central Business District                 THEFT          6\n7             Homewood South         CRIM MISCHIEF         14\n8           Brighton Heights           HIT AND RUN         27\n9                Middle Hill                    99          0",
      "text/html": "<div>\n<style scoped>\n    .dataframe tbody tr th:only-of-type {\n        vertical-align: middle;\n    }\n\n    .dataframe tbody tr th {\n        vertical-align: top;\n    }\n\n    .dataframe thead th {\n        text-align: right;\n    }\n</style>\n<table border=\"1\" class=\"dataframe\">\n  <thead>\n    <tr style=\"text-align: right;\">\n      <th></th>\n      <th>INCIDENTNEIGHBORHOOD</th>\n      <th>INCIDENTHIERARCHYDESC</th>\n      <th>HIERARCHY</th>\n    </tr>\n  </thead>\n  <tbody>\n    <tr>\n      <th>0</th>\n      <td>Strip District</td>\n      <td>HIT AND RUN</td>\n      <td>27</td>\n    </tr>\n    <tr>\n      <th>1</th>\n      <td>Carrick</td>\n      <td>CRIM MISCHIEF</td>\n      <td>14</td>\n    </tr>\n    <tr>\n      <th>2</th>\n      <td>Lincoln-Lemington-Belmar</td>\n      <td>HARRASSMENT</td>\n      <td>10</td>\n    </tr>\n    <tr>\n      <th>3</th>\n      <td>Central Business District</td>\n      <td>HIT AND RUN</td>\n      <td>27</td>\n    </tr>\n    <tr>\n      <th>4</th>\n      <td>East Liberty</td>\n      <td>99</td>\n      <td>0</td>\n    </tr>\n    <tr>\n      <th>5</th>\n      <td>South Side Slopes</td>\n      <td>CRIM MISCHIEF</td>\n      <td>14</td>\n    </tr>\n    <tr>\n      <th>6</th>\n      <td>Central Business District</td>\n      <td>THEFT</td>\n      <td>6</td>\n    </tr>\n    <tr>\n      <th>7</th>\n      <td>Homewood South</td>\n      <td>CRIM MISCHIEF</td>\n      <td>14</td>\n    </tr>\n    <tr>\n      <th>8</th>\n      <td>Brighton Heights</td>\n      <td>HIT AND RUN</td>\n      <td>27</td>\n    </tr>\n    <tr>\n      <th>9</th>\n      <td>Middle Hill</td>\n      <td>99</td>\n      <td>0</td>\n    </tr>\n  </tbody>\n</table>\n</div>"
     },
     "execution_count": 25,
     "metadata": {},
     "output_type": "execute_result"
    }
   ],
   "source": [
    "# Filter out unnecessary columns\n",
    "blotter_data = blotter_data[['INCIDENTNEIGHBORHOOD', 'INCIDENTHIERARCHYDESC', 'HIERARCHY']]\n",
    "blotter_data.head(10)"
   ],
   "metadata": {
    "collapsed": false,
    "pycharm": {
     "name": "#%%\n"
    }
   }
  },
  {
   "cell_type": "markdown",
   "source": [
    "## Step 2: Determine Danger Level\n",
    "- Create a function to weight incidents based on their"
   ],
   "metadata": {
    "collapsed": false,
    "pycharm": {
     "name": "#%% md\n"
    }
   }
  },
  {
   "cell_type": "markdown",
   "source": [
    "There are too many incident types to weight each one"
   ],
   "metadata": {
    "collapsed": false,
    "pycharm": {
     "name": "#%% md\n"
    }
   }
  },
  {
   "cell_type": "code",
   "execution_count": 26,
   "outputs": [
    {
     "data": {
      "text/plain": "97"
     },
     "execution_count": 26,
     "metadata": {},
     "output_type": "execute_result"
    }
   ],
   "source": [
    "blotter_data['INCIDENTHIERARCHYDESC'].nunique()"
   ],
   "metadata": {
    "collapsed": false,
    "pycharm": {
     "name": "#%%\n"
    }
   }
  },
  {
   "cell_type": "markdown",
   "source": [
    "We can look at the most common and group them by severity"
   ],
   "metadata": {
    "collapsed": false,
    "pycharm": {
     "name": "#%% md\n"
    }
   }
  },
  {
   "cell_type": "code",
   "execution_count": 27,
   "outputs": [
    {
     "data": {
      "text/plain": "99                                551\nHIT AND RUN                       281\nTHEFT                             273\nSIMPLE ASSAULT                    161\nTHEFT FROM AUTO                   133\nHARRASSMENT                       130\nCRIM MISCHIEF                     117\nSTOLEN PROPERTY - OTHER            72\nAIDED CASE                         71\nBURGLARY                           66\nFOUND PROPERTY                     65\nHARRASSMENT/THREAT/ATTEMPT/PHY     62\nAGG-ASSAULT                        55\nTERRORISTIC THREATS                48\nDEAD ON ARRIVAL (DOA)              47\nSTOLEN PROPERTY                    45\nTHEFT BY DECEPTION                 44\nMISCELLANEOUS INVESTIGATION        44\nMENTAL 201/302                     43\nRETAIL THEFT (SHOPLIFTING)         42\nName: INCIDENTHIERARCHYDESC, dtype: int64"
     },
     "execution_count": 27,
     "metadata": {},
     "output_type": "execute_result"
    }
   ],
   "source": [
    "# Let's take the top 15 and group them into categories for their severity\n",
    "blotter_data['INCIDENTHIERARCHYDESC'].value_counts().head(20)"
   ],
   "metadata": {
    "collapsed": false,
    "pycharm": {
     "name": "#%%\n"
    }
   }
  },
  {
   "cell_type": "markdown",
   "source": [
    "Most of them can be seen as moderate, but some are more minor or severe"
   ],
   "metadata": {
    "collapsed": false,
    "pycharm": {
     "name": "#%% md\n"
    }
   }
  },
  {
   "cell_type": "code",
   "execution_count": 28,
   "outputs": [],
   "source": [
    "severe_incidents = [\"BURGLARY\", \"DEAD ON ARRIVAL (DOA)\"]\n",
    "minor_incidents = [\"99\", \"CRIM MISCHIEF\", \"RETAIL THEFT (SHOPLIFTING)\"]\n",
    "# Any other incidents will be considered moderate"
   ],
   "metadata": {
    "collapsed": false,
    "pycharm": {
     "name": "#%%\n"
    }
   }
  },
  {
   "cell_type": "markdown",
   "source": [
    "We'll now make a 'DANGER_LEVEL' column to describe the weighted rating of the offense"
   ],
   "metadata": {
    "collapsed": false,
    "pycharm": {
     "name": "#%% md\n"
    }
   }
  },
  {
   "cell_type": "code",
   "execution_count": 29,
   "outputs": [
    {
     "data": {
      "text/plain": "        INCIDENTNEIGHBORHOOD INCIDENTHIERARCHYDESC  HIERARCHY  DANGER_LEVEL\n0             Strip District           HIT AND RUN         27           100\n1                    Carrick         CRIM MISCHIEF         14            75\n2   Lincoln-Lemington-Belmar           HARRASSMENT         10           100\n3  Central Business District           HIT AND RUN         27           100\n4               East Liberty                    99          0            75",
      "text/html": "<div>\n<style scoped>\n    .dataframe tbody tr th:only-of-type {\n        vertical-align: middle;\n    }\n\n    .dataframe tbody tr th {\n        vertical-align: top;\n    }\n\n    .dataframe thead th {\n        text-align: right;\n    }\n</style>\n<table border=\"1\" class=\"dataframe\">\n  <thead>\n    <tr style=\"text-align: right;\">\n      <th></th>\n      <th>INCIDENTNEIGHBORHOOD</th>\n      <th>INCIDENTHIERARCHYDESC</th>\n      <th>HIERARCHY</th>\n      <th>DANGER_LEVEL</th>\n    </tr>\n  </thead>\n  <tbody>\n    <tr>\n      <th>0</th>\n      <td>Strip District</td>\n      <td>HIT AND RUN</td>\n      <td>27</td>\n      <td>100</td>\n    </tr>\n    <tr>\n      <th>1</th>\n      <td>Carrick</td>\n      <td>CRIM MISCHIEF</td>\n      <td>14</td>\n      <td>75</td>\n    </tr>\n    <tr>\n      <th>2</th>\n      <td>Lincoln-Lemington-Belmar</td>\n      <td>HARRASSMENT</td>\n      <td>10</td>\n      <td>100</td>\n    </tr>\n    <tr>\n      <th>3</th>\n      <td>Central Business District</td>\n      <td>HIT AND RUN</td>\n      <td>27</td>\n      <td>100</td>\n    </tr>\n    <tr>\n      <th>4</th>\n      <td>East Liberty</td>\n      <td>99</td>\n      <td>0</td>\n      <td>75</td>\n    </tr>\n  </tbody>\n</table>\n</div>"
     },
     "execution_count": 29,
     "metadata": {},
     "output_type": "execute_result"
    }
   ],
   "source": [
    "def get_incident_weight(incident: str):\n",
    "    if incident in severe_incidents:\n",
    "        return 150\n",
    "    if incident in minor_incidents:\n",
    "        return 75\n",
    "    return 100\n",
    "\n",
    "blotter_data['DANGER_LEVEL'] = blotter_data['INCIDENTHIERARCHYDESC'].map(get_incident_weight)\n",
    "blotter_data.head()"
   ],
   "metadata": {
    "collapsed": false,
    "pycharm": {
     "name": "#%%\n"
    }
   }
  },
  {
   "cell_type": "markdown",
   "source": [
    "Once we have these danger levels, we can group the data by Neighborhood and aggregate by their total danger level."
   ],
   "metadata": {
    "collapsed": false,
    "pycharm": {
     "name": "#%% md\n"
    }
   }
  },
  {
   "cell_type": "code",
   "execution_count": 30,
   "outputs": [
    {
     "data": {
      "text/plain": "                      DANGER_LEVEL\nINCIDENTNEIGHBORHOOD              \nAllegheny Center              2275\nAllegheny West                 800\nAllentown                     3675\nArlington                     2300\nArlington Heights              425",
      "text/html": "<div>\n<style scoped>\n    .dataframe tbody tr th:only-of-type {\n        vertical-align: middle;\n    }\n\n    .dataframe tbody tr th {\n        vertical-align: top;\n    }\n\n    .dataframe thead th {\n        text-align: right;\n    }\n</style>\n<table border=\"1\" class=\"dataframe\">\n  <thead>\n    <tr style=\"text-align: right;\">\n      <th></th>\n      <th>DANGER_LEVEL</th>\n    </tr>\n    <tr>\n      <th>INCIDENTNEIGHBORHOOD</th>\n      <th></th>\n    </tr>\n  </thead>\n  <tbody>\n    <tr>\n      <th>Allegheny Center</th>\n      <td>2275</td>\n    </tr>\n    <tr>\n      <th>Allegheny West</th>\n      <td>800</td>\n    </tr>\n    <tr>\n      <th>Allentown</th>\n      <td>3675</td>\n    </tr>\n    <tr>\n      <th>Arlington</th>\n      <td>2300</td>\n    </tr>\n    <tr>\n      <th>Arlington Heights</th>\n      <td>425</td>\n    </tr>\n  </tbody>\n</table>\n</div>"
     },
     "execution_count": 30,
     "metadata": {},
     "output_type": "execute_result"
    }
   ],
   "source": [
    "nb_groups = blotter_data.groupby('INCIDENTNEIGHBORHOOD')\n",
    "neighborhood_data = nb_groups.agg({'DANGER_LEVEL':'sum'})\n",
    "neighborhood_data.head()"
   ],
   "metadata": {
    "collapsed": false,
    "pycharm": {
     "name": "#%%\n"
    }
   }
  },
  {
   "cell_type": "markdown",
   "source": [
    "Here are the top 10 safest and most dangerous neighborhoods, based purely on DANGER_LEVEL"
   ],
   "metadata": {
    "collapsed": false,
    "pycharm": {
     "name": "#%% md\n"
    }
   }
  },
  {
   "cell_type": "code",
   "execution_count": 31,
   "outputs": [
    {
     "data": {
      "text/plain": "<AxesSubplot:xlabel='Safest Neighborhoods', ylabel='Danger per Capita'>"
     },
     "execution_count": 31,
     "metadata": {},
     "output_type": "execute_result"
    },
    {
     "data": {
      "text/plain": "<Figure size 432x288 with 1 Axes>",
      "image/png": "[encoded data removed]"
     },
     "metadata": {
      "needs_background": "light"
     },
     "output_type": "display_data"
    }
   ],
   "source": [
    "neighborhood_data = neighborhood_data.sort_values(by=\"DANGER_LEVEL\")\n",
    "neighborhood_data['DANGER_LEVEL'].head(10).plot.bar(xlabel='Safest Neighborhoods', ylabel='Danger per Capita')"
   ],
   "metadata": {
    "collapsed": false,
    "pycharm": {
     "name": "#%%\n"
    }
   }
  },
  {
   "cell_type": "code",
   "execution_count": 32,
   "outputs": [
    {
     "data": {
      "text/plain": "<AxesSubplot:xlabel='Most Dangerous Neighborhoods', ylabel='Danger per Capita'>"
     },
     "execution_count": 32,
     "metadata": {},
     "output_type": "execute_result"
    },
    {
     "data": {
      "text/plain": "<Figure size 432x288 with 1 Axes>",
      "image/png": "[encoded data removed]"
     },
     "metadata": {
      "needs_background": "light"
     },
     "output_type": "display_data"
    }
   ],
   "source": [
    "neighborhood_data['DANGER_LEVEL'].tail(10).plot.bar(xlabel=\"Most Dangerous Neighborhoods\", ylabel='Danger per Capita')"
   ],
   "metadata": {
    "collapsed": false,
    "pycharm": {
     "name": "#%%\n"
    }
   }
  },
  {
   "cell_type": "markdown",
   "source": [
    "# Step 3: Account for Population\n",
    "This data still may not be a fair indicator, as higher populations will tend to have more crime due to having more people.\n",
    "\n",
    "We can account for this by importing estimated population data."
   ],
   "metadata": {
    "collapsed": false,
    "pycharm": {
     "name": "#%% md\n"
    }
   }
  },
  {
   "cell_type": "code",
   "execution_count": 37,
   "outputs": [
    {
     "data": {
      "text/plain": "                   Id  Estimate; Total  Margin of Error; Total\nNeighborhood                                                  \nAllegheny Center    1           1411.0              196.000000\nAllegheny West      2            343.0               96.000000\nAllentown           3           2558.0              449.773276\nArlington           4           1852.0              348.188168\nArlington Heights   5            272.0              126.000000",
      "text/html": "<div>\n<style scoped>\n    .dataframe tbody tr th:only-of-type {\n        vertical-align: middle;\n    }\n\n    .dataframe tbody tr th {\n        vertical-align: top;\n    }\n\n    .dataframe thead th {\n        text-align: right;\n    }\n</style>\n<table border=\"1\" class=\"dataframe\">\n  <thead>\n    <tr style=\"text-align: right;\">\n      <th></th>\n      <th>Id</th>\n      <th>Estimate; Total</th>\n      <th>Margin of Error; Total</th>\n    </tr>\n    <tr>\n      <th>Neighborhood</th>\n      <th></th>\n      <th></th>\n      <th></th>\n    </tr>\n  </thead>\n  <tbody>\n    <tr>\n      <th>Allegheny Center</th>\n      <td>1</td>\n      <td>1411.0</td>\n      <td>196.000000</td>\n    </tr>\n    <tr>\n      <th>Allegheny West</th>\n      <td>2</td>\n      <td>343.0</td>\n      <td>96.000000</td>\n    </tr>\n    <tr>\n      <th>Allentown</th>\n      <td>3</td>\n      <td>2558.0</td>\n      <td>449.773276</td>\n    </tr>\n    <tr>\n      <th>Arlington</th>\n      <td>4</td>\n      <td>1852.0</td>\n      <td>348.188168</td>\n    </tr>\n    <tr>\n      <th>Arlington Heights</th>\n      <td>5</td>\n      <td>272.0</td>\n      <td>126.000000</td>\n    </tr>\n  </tbody>\n</table>\n</div>"
     },
     "execution_count": 37,
     "metadata": {},
     "output_type": "execute_result"
    }
   ],
   "source": [
    "population_data = pd.read_csv('https://data.wprdc.org/dataset/5b18c198-474c-4723-b735-cc5220ad43cc/resource/82f29015-6905-4b1c-8300-afe9bb2231b3/download/total-population.csv', index_col='Neighborhood')\n",
    "population_data.head()"
   ],
   "metadata": {
    "collapsed": false,
    "pycharm": {
     "name": "#%%\n"
    }
   }
  },
  {
   "cell_type": "markdown",
   "source": [
    "We can add the 'Estimate; Total' data to our current neighborhood data by creating a new column."
   ],
   "metadata": {
    "collapsed": false,
    "pycharm": {
     "name": "#%% md\n"
    }
   }
  },
  {
   "cell_type": "code",
   "execution_count": 38,
   "outputs": [
    {
     "data": {
      "text/plain": "                      DANGER_LEVEL  POPULATION\nINCIDENTNEIGHBORHOOD                          \nRegent Square                   75      1033.0\nOutside County                  75         NaN\nNew Homestead                  100       973.0\nGlen Hazel                     150       716.0\nEast Carnegie                  175       610.0",
      "text/html": "<div>\n<style scoped>\n    .dataframe tbody tr th:only-of-type {\n        vertical-align: middle;\n    }\n\n    .dataframe tbody tr th {\n        vertical-align: top;\n    }\n\n    .dataframe thead th {\n        text-align: right;\n    }\n</style>\n<table border=\"1\" class=\"dataframe\">\n  <thead>\n    <tr style=\"text-align: right;\">\n      <th></th>\n      <th>DANGER_LEVEL</th>\n      <th>POPULATION</th>\n    </tr>\n    <tr>\n      <th>INCIDENTNEIGHBORHOOD</th>\n      <th></th>\n      <th></th>\n    </tr>\n  </thead>\n  <tbody>\n    <tr>\n      <th>Regent Square</th>\n      <td>75</td>\n      <td>1033.0</td>\n    </tr>\n    <tr>\n      <th>Outside County</th>\n      <td>75</td>\n      <td>NaN</td>\n    </tr>\n    <tr>\n      <th>New Homestead</th>\n      <td>100</td>\n      <td>973.0</td>\n    </tr>\n    <tr>\n      <th>Glen Hazel</th>\n      <td>150</td>\n      <td>716.0</td>\n    </tr>\n    <tr>\n      <th>East Carnegie</th>\n      <td>175</td>\n      <td>610.0</td>\n    </tr>\n  </tbody>\n</table>\n</div>"
     },
     "execution_count": 38,
     "metadata": {},
     "output_type": "execute_result"
    }
   ],
   "source": [
    "neighborhood_data['POPULATION'] = population_data['Estimate; Total']\n",
    "neighborhood_data.head()"
   ],
   "metadata": {
    "collapsed": false,
    "pycharm": {
     "name": "#%%\n"
    }
   }
  },
  {
   "cell_type": "markdown",
   "source": [
    "Now, we can join our dataframes and create a new column for danger level per capita"
   ],
   "metadata": {
    "collapsed": false
   }
  },
  {
   "cell_type": "code",
   "execution_count": 39,
   "outputs": [
    {
     "data": {
      "text/plain": "                      DANGER_LEVEL  POPULATION  DANGER_PER_CAPITA\nINCIDENTNEIGHBORHOOD                                             \nRegent Square                   75      1033.0           0.072604\nOutside County                  75         NaN                NaN\nNew Homestead                  100       973.0           0.102775\nGlen Hazel                     150       716.0           0.209497\nEast Carnegie                  175       610.0           0.286885",
      "text/html": "<div>\n<style scoped>\n    .dataframe tbody tr th:only-of-type {\n        vertical-align: middle;\n    }\n\n    .dataframe tbody tr th {\n        vertical-align: top;\n    }\n\n    .dataframe thead th {\n        text-align: right;\n    }\n</style>\n<table border=\"1\" class=\"dataframe\">\n  <thead>\n    <tr style=\"text-align: right;\">\n      <th></th>\n      <th>DANGER_LEVEL</th>\n      <th>POPULATION</th>\n      <th>DANGER_PER_CAPITA</th>\n    </tr>\n    <tr>\n      <th>INCIDENTNEIGHBORHOOD</th>\n      <th></th>\n      <th></th>\n      <th></th>\n    </tr>\n  </thead>\n  <tbody>\n    <tr>\n      <th>Regent Square</th>\n      <td>75</td>\n      <td>1033.0</td>\n      <td>0.072604</td>\n    </tr>\n    <tr>\n      <th>Outside County</th>\n      <td>75</td>\n      <td>NaN</td>\n      <td>NaN</td>\n    </tr>\n    <tr>\n      <th>New Homestead</th>\n      <td>100</td>\n      <td>973.0</td>\n      <td>0.102775</td>\n    </tr>\n    <tr>\n      <th>Glen Hazel</th>\n      <td>150</td>\n      <td>716.0</td>\n      <td>0.209497</td>\n    </tr>\n    <tr>\n      <th>East Carnegie</th>\n      <td>175</td>\n      <td>610.0</td>\n      <td>0.286885</td>\n    </tr>\n  </tbody>\n</table>\n</div>"
     },
     "execution_count": 39,
     "metadata": {},
     "output_type": "execute_result"
    }
   ],
   "source": [
    "neighborhood_data['DANGER_PER_CAPITA'] = neighborhood_data['DANGER_LEVEL'] / neighborhood_data['POPULATION']\n",
    "neighborhood_data.head()"
   ],
   "metadata": {
    "collapsed": false,
    "pycharm": {
     "name": "#%%\n"
    }
   }
  },
  {
   "cell_type": "markdown",
   "source": [
    "# Conclusion"
   ],
   "metadata": {
    "collapsed": false,
    "pycharm": {
     "name": "#%% md\n"
    }
   }
  },
  {
   "cell_type": "markdown",
   "source": [
    "This 'DANGER_PER_CAPITA' can be used as our indicator for safety, so let's look at the most and least safe neighborhoods"
   ],
   "metadata": {
    "collapsed": false
   }
  },
  {
   "cell_type": "code",
   "execution_count": 40,
   "outputs": [
    {
     "data": {
      "text/plain": "<AxesSubplot:xlabel='Safest Neighborhoods', ylabel='Danger per Capita'>"
     },
     "execution_count": 40,
     "metadata": {},
     "output_type": "execute_result"
    },
    {
     "data": {
      "text/plain": "<Figure size 432x288 with 1 Axes>",
      "image/png": "[encoded data removed]"
     },
     "metadata": {
      "needs_background": "light"
     },
     "output_type": "display_data"
    }
   ],
   "source": [
    "neighborhood_data = neighborhood_data.sort_values(by=\"DANGER_PER_CAPITA\").dropna()\n",
    "neighborhood_data['DANGER_PER_CAPITA'].head(10).plot.bar(xlabel='Safest Neighborhoods', ylabel='Danger per Capita')"
   ],
   "metadata": {
    "collapsed": false,
    "pycharm": {
     "name": "#%%\n"
    }
   }
  },
  {
   "cell_type": "code",
   "execution_count": 41,
   "outputs": [
    {
     "data": {
      "text/plain": "<AxesSubplot:xlabel='Most Dangerous Neighborhoods', ylabel='Danger per Capita'>"
     },
     "execution_count": 41,
     "metadata": {},
     "output_type": "execute_result"
    },
    {
     "data": {
      "text/plain": "<Figure size 432x288 with 1 Axes>",
      "image/png": "[encoded data removed]"
     },
     "metadata": {
      "needs_background": "light"
     },
     "output_type": "display_data"
    }
   ],
   "source": [
    "neighborhood_data['DANGER_PER_CAPITA'].tail(10).plot.bar(xlabel=\"Most Dangerous Neighborhoods\", ylabel='Danger per Capita')"
   ],
   "metadata": {
    "collapsed": false,
    "pycharm": {
     "name": "#%%\n"
    }
   }
  },
  {
   "cell_type": "markdown",
   "source": [
    "Woah! Why is Chateau's danger rating so high?\n",
    "\n",
    "Chateau has a very small is population, and mainly consists of [warehouses](https://en.wikipedia.org/wiki/Chateau_(Pittsburgh)), so it could be possible that people go to this unpopulated neighborhood to stay under the radar and commit crime"
   ],
   "metadata": {
    "collapsed": false
   }
  },
  {
   "cell_type": "markdown",
   "source": [
    "Based on calculations including the amount of police incidents reported, the type of incidents, and the neighborhood populations, the final rankings from safest to most dangerous are as follows:"
   ],
   "metadata": {
    "collapsed": false,
    "pycharm": {
     "name": "#%% md\n"
    }
   }
  },
  {
   "cell_type": "code",
   "execution_count": 42,
   "outputs": [
    {
     "name": "stdout",
     "output_type": "stream",
     "text": [
      "1. Regent Square\n",
      "2. New Homestead\n",
      "3. Oakwood\n",
      "4. Swisshelm Park\n",
      "5. Glen Hazel\n",
      "6. Stanton Heights\n",
      "7. Squirrel Hill North\n",
      "8. East Carnegie\n",
      "9. Overbrook\n",
      "10. Lincoln Place\n",
      "11. Shadyside\n",
      "12. Banksville\n",
      "13. Morningside\n",
      "14. Brookline\n",
      "15. Bloomfield\n",
      "16. North Oakland\n",
      "17. Squirrel Hill South\n",
      "18. Greenfield\n",
      "19. Polish Hill\n",
      "20. Point Breeze\n",
      "21. Garfield\n",
      "22. Windgap\n",
      "23. Mount Washington\n",
      "24. Westwood\n",
      "25. Upper Lawrenceville\n",
      "26. Highland Park\n",
      "27. Central Oakland\n",
      "28. Beltzhoover\n",
      "29. Ridgemont\n",
      "30. Lower Lawrenceville\n",
      "31. Upper Hill\n",
      "32. South Oakland\n",
      "33. Central Lawrenceville\n",
      "34. Terrace Village\n",
      "35. Marshall-Shadeland\n",
      "36. St. Clair\n",
      "37. Fairywood\n",
      "38. Duquesne Heights\n",
      "39. Spring Garden\n",
      "40. Beechview\n",
      "41. Friendship\n",
      "42. Chartiers City\n",
      "43. Troy Hill\n",
      "44. Summer Hill\n",
      "45. Perry North\n",
      "46. Brighton Heights\n",
      "47. Lincoln-Lemington-Belmar\n",
      "48. Spring Hill-City View\n",
      "49. Bluff\n",
      "50. Crafton Heights\n",
      "51. Carrick\n",
      "52. West Oakland\n",
      "53. Knoxville\n",
      "54. Hazelwood\n",
      "55. East Liberty\n",
      "56. Hays\n",
      "57. Sheraden\n",
      "58. South Side Slopes\n",
      "59. Arlington\n",
      "60. Bon Air\n",
      "61. Elliott\n",
      "62. Perry South\n",
      "63. Crawford-Roberts\n",
      "64. East Hills\n",
      "65. Allentown\n",
      "66. Fineview\n",
      "67. Manchester\n",
      "68. Middle Hill\n",
      "69. Arlington Heights\n",
      "70. Point Breeze North\n",
      "71. Allegheny Center\n",
      "72. California-Kirkbride\n",
      "73. South Side Flats\n",
      "74. Northview Heights\n",
      "75. Bedford Dwellings\n",
      "76. Homewood North\n",
      "77. Allegheny West\n",
      "78. Homewood West\n",
      "79. Esplen\n",
      "80. Larimer\n",
      "81. East Allegheny\n",
      "82. Homewood South\n",
      "83. West End\n",
      "84. Strip District\n",
      "85. Central Business District\n",
      "86. North Shore\n",
      "87. South Shore\n",
      "88. Chateau\n"
     ]
    }
   ],
   "source": [
    "# Print each of the neighborhoods (the index of the df) on separate lines in order\n",
    "for rank, nb in enumerate(neighborhood_data.index, 1):\n",
    "    print(f\"{rank}. {nb}\")"
   ],
   "metadata": {
    "collapsed": false,
    "pycharm": {
     "name": "#%%\n"
    }
   }
  }
 ],
 "metadata": {
  "kernelspec": {
   "display_name": "Python 3",
   "language": "python",
   "name": "python3"
  },
  "language_info": {
   "codemirror_mode": {
    "name": "ipython",
    "version": 2
   },
   "file_extension": ".py",
   "mimetype": "text/x-python",
   "name": "python",
   "nbconvert_exporter": "python",
   "pygments_lexer": "ipython2",
   "version": "2.7.6"
  }
 },
 "nbformat": 4,
 "nbformat_minor": 0
}